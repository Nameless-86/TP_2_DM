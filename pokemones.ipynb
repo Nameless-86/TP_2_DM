{
 "cells": [
  {
   "cell_type": "code",
   "execution_count": null,
   "metadata": {},
   "outputs": [],
   "source": [
    "import warnings\n",
    "warnings.filterwarnings(\"ignore\")"
   ]
  },
  {
   "cell_type": "code",
   "execution_count": null,
   "metadata": {},
   "outputs": [],
   "source": [
    "import pandas as pd\n",
    "import numpy as np\n",
    "import matplotlib.pyplot as plt\n",
    "import seaborn as sns\n",
    "import plotly.express as px\n",
    "from IPython.display import display"
   ]
  },
  {
   "cell_type": "code",
   "execution_count": null,
   "metadata": {},
   "outputs": [],
   "source": [
    "dataframe = pd.read_csv('PokemonDB.csv')\n",
    "dataframe.head()"
   ]
  },
  {
   "cell_type": "markdown",
   "metadata": {},
   "source": [
    "# otra vez sin nulos"
   ]
  },
  {
   "cell_type": "code",
   "execution_count": null,
   "metadata": {},
   "outputs": [],
   "source": [
    "dataframe.isnull().sum()"
   ]
  },
  {
   "cell_type": "markdown",
   "metadata": {},
   "source": [
    "1190 pokemones y sus estadisticas"
   ]
  },
  {
   "cell_type": "code",
   "execution_count": null,
   "metadata": {},
   "outputs": [],
   "source": [
    "dataframe.info()"
   ]
  },
  {
   "cell_type": "code",
   "execution_count": null,
   "metadata": {},
   "outputs": [],
   "source": [
    "dataframe.describe()"
   ]
  },
  {
   "cell_type": "code",
   "execution_count": null,
   "metadata": {},
   "outputs": [],
   "source": [
    "for columna in dataframe[['HP', 'Attack', 'Defense', 'Sp. Atk', 'Sp. Def', 'Speed']]:\n",
    "    plt.figure(figsize=(20,10))\n",
    "    sns.boxplot(x='Type',y=columna, data=dataframe)"
   ]
  },
  {
   "cell_type": "markdown",
   "metadata": {},
   "source": [
    "- HP: los que son dragones son los que mas hp tienen, bug y ghost son los que menos tienen.\n",
    "\n",
    "- Attack: Fighting y Dragon son los que tienen mas puntos de ataque basico, bug, ghost y psychic tienen el ataque basico mas bajo.\n",
    "\n",
    "- Defense: Steel y Rock tienen mas defensa base, mientras que bug y normal son los que menos tienen\n",
    "\n",
    "- Sp. Atk: Psychic tienen el ataque especial mas alto, pero apenas destaca del resto.\n",
    "\n",
    "- Sp. Def: Psychic y Dragon tienen defensa especial mas alta. Apenas un poco mas que el resto.\n",
    "\n",
    "- Speed: Electric son los mas rapidos. Rock and Steel los mas lentos"
   ]
  },
  {
   "cell_type": "code",
   "execution_count": null,
   "metadata": {},
   "outputs": [],
   "source": [
    "sns.countplot(dataframe, x='Type', order=dataframe['Type'].value_counts().index)\n",
    "plt.title(\"Count plot de cantidad de pokemones dependiendo el tipo\")\n",
    "plt.xticks(rotation=45)\n",
    "plt.tight_layout()\n",
    "plt.show()"
   ]
  },
  {
   "cell_type": "markdown",
   "metadata": {},
   "source": [
    "Vemos que Water, Normal y Grass tienen mas de 100 pokemones en los ejercicios 3 4 y 5 tenemos que predecir type, los resultados quizas se vean afectados por tener un desbalance de clases"
   ]
  },
  {
   "cell_type": "code",
   "execution_count": null,
   "metadata": {},
   "outputs": [],
   "source": [
    "plt.figure(figsize=(12, 8))\n",
    "\n",
    "for i, columna in enumerate(dataframe.columns[2:7]):\n",
    "    plt.subplot(5,1,i+1)\n",
    "    sns.histplot(dataframe[columna], kde=True) \n",
    "    plt.title(f'Histograma de {columna}')\n",
    "    plt.xlabel(columna)\n",
    "    plt.ylabel('Frecuencia')\n",
    "\n",
    "\n",
    "plt.tight_layout()\n",
    "plt.show()"
   ]
  },
  {
   "cell_type": "code",
   "execution_count": null,
   "metadata": {},
   "outputs": [],
   "source": [
    "df_sub = dataframe[dataframe.describe().columns]\n",
    "\n",
    "dataframe_escalado = (df_sub-df_sub.mean())/df_sub.std()"
   ]
  },
  {
   "cell_type": "code",
   "execution_count": null,
   "metadata": {},
   "outputs": [],
   "source": [
    "dataframe_escalado"
   ]
  },
  {
   "cell_type": "code",
   "execution_count": null,
   "metadata": {},
   "outputs": [],
   "source": [
    "dataframe_escalado.columns"
   ]
  },
  {
   "cell_type": "code",
   "execution_count": null,
   "metadata": {},
   "outputs": [],
   "source": [
    "X = dataframe_escalado\n",
    "Y = dataframe['Type']"
   ]
  },
  {
   "cell_type": "code",
   "execution_count": null,
   "metadata": {},
   "outputs": [],
   "source": [
    "from sklearn.model_selection import train_test_split\n",
    "X_train_primero, X_test_primero, y_train_primero, y_test_primero = train_test_split(X, Y, test_size=0.2, random_state=42)\n",
    "X_train_segundo, X_test_segundo, y_train_segundo, y_test_segundo = train_test_split(X, Y, test_size=0.3, random_state=84)"
   ]
  },
  {
   "cell_type": "code",
   "execution_count": null,
   "metadata": {},
   "outputs": [],
   "source": [
    "from sklearn.tree import DecisionTreeClassifier, plot_tree\n",
    "classifier_primero = DecisionTreeClassifier(random_state=0, max_depth=3, min_samples_leaf=1, min_samples_split=2, criterion=\"entropy\")\n",
    "\n",
    "classifier_segundo = DecisionTreeClassifier(random_state=33, max_depth=3, min_samples_leaf=2, min_samples_split=4, criterion=\"log_loss\")"
   ]
  },
  {
   "cell_type": "code",
   "execution_count": null,
   "metadata": {},
   "outputs": [],
   "source": [
    "classifier_primero.fit(X_train_primero, y_train_primero)\n",
    "classifier_segundo.fit(X_train_segundo, y_train_segundo)"
   ]
  },
  {
   "cell_type": "code",
   "execution_count": null,
   "metadata": {},
   "outputs": [],
   "source": [
    "# Predict on the test set\n",
    "y_pred_primero = classifier_primero.predict(X_test_primero)\n",
    "y_pred_segundo = classifier_segundo.predict(X_test_segundo)"
   ]
  },
  {
   "cell_type": "markdown",
   "metadata": {},
   "source": [
    "Precisión, Exhaustividad y Exactitud"
   ]
  },
  {
   "cell_type": "code",
   "execution_count": null,
   "metadata": {},
   "outputs": [],
   "source": [
    "from sklearn.metrics import accuracy_score, f1_score, confusion_matrix\n",
    "# Métricas\n",
    "accuracy = accuracy_score(y_test_primero, y_pred_primero)\n",
    "f1 = f1_score(y_test_primero, y_pred_primero, average='weighted')\n",
    "conf_matrix = confusion_matrix(y_test_primero, y_pred_primero)\n",
    "\n",
    "print(accuracy, f1)\n"
   ]
  },
  {
   "cell_type": "markdown",
   "metadata": {},
   "source": [
    "arboles"
   ]
  },
  {
   "cell_type": "code",
   "execution_count": null,
   "metadata": {},
   "outputs": [],
   "source": [
    "feature_list = list(X_train_primero.columns)"
   ]
  },
  {
   "cell_type": "code",
   "execution_count": null,
   "metadata": {},
   "outputs": [],
   "source": [
    "features = feature_list\n",
    "\n",
    "plt.figure(figsize=(20,6))\n",
    "plot_tree(classifier_primero,\n",
    "                feature_names=features,\n",
    "                fontsize=8,\n",
    "                filled=True,\n",
    "                rounded=True)\n",
    "plt.show()"
   ]
  },
  {
   "cell_type": "markdown",
   "metadata": {},
   "source": [
    "Naive Bayes"
   ]
  },
  {
   "cell_type": "code",
   "execution_count": null,
   "metadata": {},
   "outputs": [],
   "source": [
    "from sklearn.naive_bayes import MultinomialNB"
   ]
  },
  {
   "cell_type": "code",
   "execution_count": null,
   "metadata": {},
   "outputs": [],
   "source": [
    "mnb = MultinomialNB()\n",
    "mnb.fit(X_train_primero, y_train_primero)"
   ]
  }
 ],
 "metadata": {
  "kernelspec": {
   "display_name": "Python 3",
   "language": "python",
   "name": "python3"
  },
  "language_info": {
   "codemirror_mode": {
    "name": "ipython",
    "version": 3
   },
   "file_extension": ".py",
   "mimetype": "text/x-python",
   "name": "python",
   "nbconvert_exporter": "python",
   "pygments_lexer": "ipython3",
   "version": "3.12.3"
  }
 },
 "nbformat": 4,
 "nbformat_minor": 2
}
